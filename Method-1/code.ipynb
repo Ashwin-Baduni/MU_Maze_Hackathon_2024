{
 "cells": [
  {
   "cell_type": "markdown",
   "metadata": {},
   "source": [
    "## Convert to B&W with Straight Lines\n"
   ]
  },
  {
   "cell_type": "markdown",
   "metadata": {},
   "source": [
    "## Extract B&W to array\n"
   ]
  },
  {
   "cell_type": "code",
   "execution_count": 40,
   "metadata": {},
   "outputs": [],
   "source": [
    "# check whatsapp for rgb to B&W code"
   ]
  },
  {
   "cell_type": "code",
   "execution_count": 41,
   "metadata": {},
   "outputs": [],
   "source": [
    "import cv2\n",
    "import numpy as np\n",
    "\n",
    "# input is black and white image\n",
    "image= cv2.imread('res2.png')\n",
    "black_and_white_image_array= cv2.cvtColor(image, cv2.COLOR_BGR2GRAY)\n",
    "\n",
    "x = Image.fromarray(black_and_white_image_array.astype(np.uint8))\n",
    "\n"
   ]
  },
  {
   "cell_type": "code",
   "execution_count": 42,
   "metadata": {},
   "outputs": [
    {
     "data": {
      "text/plain": [
       "array([[0, 0, 0, ..., 0, 0, 0],\n",
       "       [0, 0, 0, ..., 0, 0, 0],\n",
       "       [0, 0, 0, ..., 0, 0, 0],\n",
       "       ...,\n",
       "       [0, 0, 0, ..., 0, 0, 0],\n",
       "       [0, 0, 0, ..., 0, 0, 0],\n",
       "       [0, 0, 0, ..., 0, 0, 0]], dtype=uint8)"
      ]
     },
     "execution_count": 42,
     "metadata": {},
     "output_type": "execute_result"
    }
   ],
   "source": [
    "black_and_white_image_array"
   ]
  },
  {
   "cell_type": "markdown",
   "metadata": {},
   "source": [
    "## Extract Nodes/Dots"
   ]
  },
  {
   "cell_type": "code",
   "execution_count": 43,
   "metadata": {},
   "outputs": [],
   "source": [
    "import cv2\n",
    "import numpy as np\n",
    "\n",
    "\n",
    "image= cv2.imread('res2.png')\n",
    "gray= cv2.cvtColor(image, cv2.COLOR_BGR2GRAY)\n",
    "\n",
    "\n",
    "gray= np.float32(gray)\n",
    "\n",
    "harris_corners= cv2.cornerHarris(gray, 2, 1, 0.05)\n",
    "\n",
    "kernel= np.ones((1,1), np.uint8)\n",
    "\n",
    "harris_corners= cv2.dilate(harris_corners, kernel, iterations= 2)\n",
    "\n",
    "\n",
    "image[harris_corners > 0.025 * harris_corners.max()]= [255,127,127]\n",
    "\n",
    "max=harris_corners.max()\n",
    "x=[]\n",
    "for i in range(0,harris_corners.shape[0]):\n",
    "    temp=[]\n",
    "    for j in range(0,harris_corners.shape[1]):\n",
    "        if(harris_corners[i][j] > (0.025 * max)):\n",
    "            temp.append(255)\n",
    "        else:\n",
    "            temp.append(0)\n",
    "    x.append(temp)\n",
    "    \n",
    "dots_image_array = np.array(x)\n",
    "\n"
   ]
  },
  {
   "cell_type": "markdown",
   "metadata": {},
   "source": [
    "## Extract Outlines"
   ]
  },
  {
   "cell_type": "code",
   "execution_count": 44,
   "metadata": {},
   "outputs": [],
   "source": [
    "import cv2\n",
    "import numpy as np\n",
    "\n",
    "# input is black and white image\n",
    "image= cv2.imread('res2.png')\n",
    "gray= cv2.cvtColor(image, cv2.COLOR_BGR2GRAY)\n",
    "\n",
    "import matplotlib.pyplot as plt\n",
    "canny_outline_image_array = cv2.Canny(gray,100,200)\n",
    "\n",
    "from PIL import Image\n",
    "\n",
    "# array_image = np.array(x)\n",
    "canny_outline_image = Image.fromarray(canny_outline_image_array.astype(np.uint8))\n",
    "# canny_outline_image.save('xyz.png')\n"
   ]
  },
  {
   "cell_type": "code",
   "execution_count": 45,
   "metadata": {},
   "outputs": [
    {
     "data": {
      "text/plain": [
       "array([[0, 0, 0, ..., 0, 0, 0],\n",
       "       [0, 0, 0, ..., 0, 0, 0],\n",
       "       [0, 0, 0, ..., 0, 0, 0],\n",
       "       ...,\n",
       "       [0, 0, 0, ..., 0, 0, 0],\n",
       "       [0, 0, 0, ..., 0, 0, 0],\n",
       "       [0, 0, 0, ..., 0, 0, 0]], dtype=uint8)"
      ]
     },
     "execution_count": 45,
     "metadata": {},
     "output_type": "execute_result"
    }
   ],
   "source": [
    "canny_outline_image_array"
   ]
  },
  {
   "cell_type": "code",
   "execution_count": 46,
   "metadata": {},
   "outputs": [
    {
     "data": {
      "text/plain": [
       "(898, 1614)"
      ]
     },
     "execution_count": 46,
     "metadata": {},
     "output_type": "execute_result"
    }
   ],
   "source": [
    "canny_outline_image_array.shape"
   ]
  },
  {
   "cell_type": "code",
   "execution_count": 47,
   "metadata": {},
   "outputs": [
    {
     "data": {
      "text/plain": [
       "(898, 1614)"
      ]
     },
     "execution_count": 47,
     "metadata": {},
     "output_type": "execute_result"
    }
   ],
   "source": [
    "black_and_white_image_array.shape"
   ]
  },
  {
   "cell_type": "code",
   "execution_count": 48,
   "metadata": {},
   "outputs": [],
   "source": [
    "x=[]\n",
    "for i in range(0,black_and_white_image_array.shape[0]):\n",
    "    temp=[]\n",
    "    for j in range(0,black_and_white_image_array.shape[1]):\n",
    "        if(canny_outline_image_array[i][j]==255):\n",
    "            temp.append(255)\n",
    "        elif(black_and_white_image_array[i][j]==255):\n",
    "            temp.append(100)\n",
    "        else:\n",
    "            temp.append(0)\n",
    "    x.append(temp)"
   ]
  },
  {
   "cell_type": "code",
   "execution_count": 49,
   "metadata": {},
   "outputs": [],
   "source": [
    "image_array = np.array(x)\n",
    "image = Image.fromarray(image_array.astype(np.uint8))\n",
    "image.save('final.png')\n"
   ]
  },
  {
   "cell_type": "code",
   "execution_count": 56,
   "metadata": {},
   "outputs": [
    {
     "data": {
      "image/png": "[encoded data removed]",
      "text/plain": [
       "<PIL.Image.Image image mode=L size=1614x898>"
      ]
     },
     "execution_count": 56,
     "metadata": {},
     "output_type": "execute_result"
    }
   ],
   "source": [
    "image"
   ]
  },
  {
   "cell_type": "markdown",
   "metadata": {},
   "source": [
    "# Straight Lines"
   ]
  },
  {
   "cell_type": "code",
   "execution_count": null,
   "metadata": {},
   "outputs": [],
   "source": [
    "new_img_array=image_array"
   ]
  },
  {
   "cell_type": "code",
   "execution_count": null,
   "metadata": {},
   "outputs": [],
   "source": [
    "# go horizontal\n",
    "for i in range(0,image_array.shape[0]):\n",
    "    for j in range(0,image_array.shape[1]):\n",
    "        if(image_array[i][j]==100 and image_array[i-1][j]==255 and image_array[i][j+1]==255):\n",
    "            new_img_array[i][j]=255\n",
    "        elif(image_array[i][j]==100 and image_array[i-1][j]==255 and image_array[i][j+1]==100):\n",
    "            new_img_array[i][j]=255\n",
    "            new_img_array[i-1][j]=0\n",
    "        elif(image_array[])"
   ]
  },
  {
   "cell_type": "markdown",
   "metadata": {},
   "source": [
    "# Add Nodes to final.png"
   ]
  },
  {
   "cell_type": "code",
   "execution_count": 55,
   "metadata": {},
   "outputs": [],
   "source": [
    "for i in range(0,image_array.shape[0]):\n",
    "    for j in range(0,image_array.shape[1]):\n",
    "        if(dots_image_array[i][j]==255 and image_array[i][j]==255):\n",
    "            image_array[i][j]=50\n",
    "            \n",
    "image = Image.fromarray(image_array.astype(np.uint8))\n",
    "image.save('final_with_nodes.png')\n"
   ]
  },
  {
   "cell_type": "code",
   "execution_count": 50,
   "metadata": {},
   "outputs": [
    {
     "data": {
      "text/plain": [
       "(898, 1614)"
      ]
     },
     "execution_count": 50,
     "metadata": {},
     "output_type": "execute_result"
    }
   ],
   "source": [
    "image_array.shape"
   ]
  },
  {
   "cell_type": "code",
   "execution_count": 51,
   "metadata": {},
   "outputs": [],
   "source": [
    "from src.maze import MazeGraph\n",
    "# Create a new graph\n",
    "graph = MazeGraph()"
   ]
  },
  {
   "cell_type": "markdown",
   "metadata": {},
   "source": [
    "# Go Horizontal"
   ]
  },
  {
   "cell_type": "code",
   "execution_count": 52,
   "metadata": {},
   "outputs": [],
   "source": [
    "def get_length(node1,node2):\n",
    "    return 0"
   ]
  },
  {
   "cell_type": "code",
   "execution_count": 53,
   "metadata": {},
   "outputs": [
    {
     "ename": "TypeError",
     "evalue": "object of type 'int' has no len()",
     "output_type": "error",
     "traceback": [
      "\u001b[0;31m---------------------------------------------------------------------------\u001b[0m",
      "\u001b[0;31mTypeError\u001b[0m                                 Traceback (most recent call last)",
      "Cell \u001b[0;32mIn[53], line 2\u001b[0m\n\u001b[1;32m      1\u001b[0m \u001b[38;5;66;03m# iterate through column\u001b[39;00m\n\u001b[0;32m----> 2\u001b[0m \u001b[38;5;28;01mfor\u001b[39;00m i \u001b[38;5;129;01min\u001b[39;00m \u001b[38;5;28mrange\u001b[39m(\u001b[38;5;241m0\u001b[39m,\u001b[38;5;28mlen\u001b[39m(image_array\u001b[38;5;241m.\u001b[39mshape[\u001b[38;5;241m1\u001b[39m])):\n\u001b[1;32m      3\u001b[0m     \u001b[38;5;66;03m# node_list\u001b[39;00m\n\u001b[1;32m      4\u001b[0m     node_list\u001b[38;5;241m=\u001b[39m[]\n\u001b[1;32m      6\u001b[0m     \u001b[38;5;66;03m# iterate through row\u001b[39;00m\n",
      "\u001b[0;31mTypeError\u001b[0m: object of type 'int' has no len()"
     ]
    }
   ],
   "source": [
    "# iterate through column\n",
    "for i in range(0,image_array.shape[1]):\n",
    "    # node_list\n",
    "    node_list=[]\n",
    "    \n",
    "    # iterate through row\n",
    "    flag_check_if_white_straight_line=0\n",
    "    for j in range(0,image_array.shape[0]):\n",
    "        # check if white/border\n",
    "        if(image_array[j][i]==255):\n",
    "            \n",
    "            if(flag_check_if_white_straight_line==1):\n",
    "                continue\n",
    "            \n",
    "            if(len(node_list)==0):\n",
    "                # create node\n",
    "                node_list.append(graph.add_node((j,i)))\n",
    "                if(image_array[j][i]):\n",
    "                    flag_check_if_white_straight_line=1\n",
    "            \n",
    "            # we have to connect an edge\n",
    "            else:\n",
    "                node_list.append(graph.add_node((j,i)))\n",
    "                graph.add_edge(node_list[0],node_list[1],length=get_length(node_list[0],node_list[1]))\n",
    "                node_list.pop(0)                    \n",
    "                \n",
    "                \n",
    "        elif(image_array[j][i]==100):\n",
    "            if(flag_check_if_white_straight_line==1):\n",
    "                flag_check_if_white_straight_line=0\n",
    "                node_list.append(graph.add_node((j-1,i)))\n",
    "                graph.add_edge(node_list[0],node_list[1],length=get_length(node_list[0],node_list[1]))\n",
    "                node_list.pop(0)                    \n",
    "        \n",
    "        if(image_array[j][i]==0):\n",
    "            node_list=[]\n",
    "            flag_check_if_white_straight_line=0\n",
    "\n",
    "            \n",
    "                \n",
    "            \n",
    "        "
   ]
  }
 ],
 "metadata": {
  "kernelspec": {
   "display_name": "base",
   "language": "python",
   "name": "python3"
  },
  "language_info": {
   "codemirror_mode": {
    "name": "ipython",
    "version": 3
   },
   "file_extension": ".py",
   "mimetype": "text/x-python",
   "name": "python",
   "nbconvert_exporter": "python",
   "pygments_lexer": "ipython3",
   "version": "3.11.5"
  }
 },
 "nbformat": 4,
 "nbformat_minor": 2
}
