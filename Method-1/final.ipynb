{
 "cells": [
  {
   "cell_type": "markdown",
   "metadata": {},
   "source": [
    "# Import Image Question"
   ]
  },
  {
   "cell_type": "code",
   "execution_count": 1,
   "metadata": {},
   "outputs": [],
   "source": [
    "question='3.png'"
   ]
  },
  {
   "cell_type": "markdown",
   "metadata": {},
   "source": [
    "## Remove Yellow Blue"
   ]
  },
  {
   "cell_type": "code",
   "execution_count": 2,
   "metadata": {},
   "outputs": [
    {
     "data": {
      "text/plain": [
       "True"
      ]
     },
     "execution_count": 2,
     "metadata": {},
     "output_type": "execute_result"
    }
   ],
   "source": [
    "import cv2\n",
    "import numpy as np\n",
    "from PIL import Image\n",
    "# Load the no_yellow_blue_image\n",
    "no_yellow_blue_image = cv2.imread(question)\n",
    "\n",
    "# Convert no_yellow_blue_image to HSV color space\n",
    "hsv = cv2.cvtColor(no_yellow_blue_image, cv2.COLOR_BGR2HSV)\n",
    "\n",
    "# Define range of yellow color in HSV\n",
    "lower_yellow = np.array([20, 100, 100])\n",
    "upper_yellow = np.array([30, 255, 255])\n",
    "\n",
    "# Define range of blue color in HSV\n",
    "lower_blue = np.array([90, 50, 50])\n",
    "upper_blue = np.array([130, 255, 255])\n",
    "\n",
    "# Threshold the HSV no_yellow_blue_image to get only yellow and blue colors\n",
    "yellow_mask = cv2.inRange(hsv, lower_yellow, upper_yellow)\n",
    "blue_mask = cv2.inRange(hsv, lower_blue, upper_blue)\n",
    "\n",
    "# Combine masks\n",
    "mask = yellow_mask + blue_mask\n",
    "\n",
    "# Morphological operations\n",
    "kernel = np.ones((5,5), np.uint8)\n",
    "mask = cv2.morphologyEx(mask, cv2.MORPH_CLOSE, kernel)\n",
    "\n",
    "# Replace yellow and blue regions with white color\n",
    "no_yellow_blue_image[np.where(mask==255)] = [255, 255, 255]\n",
    "\n",
    "#convert image to gray\n",
    "gray_image = cv2.cvtColor(no_yellow_blue_image, cv2.COLOR_BGR2GRAY)  # If the array is in BGR format\n",
    "\n",
    "cv2.imwrite('no_yellow_blue_grey_image.png', gray_image)\n"
   ]
  },
  {
   "cell_type": "markdown",
   "metadata": {},
   "source": [
    "## Get Straight lines image"
   ]
  },
  {
   "cell_type": "code",
   "execution_count": 3,
   "metadata": {},
   "outputs": [],
   "source": [
    "import cv2\n",
    "import numpy as np\n",
    "\n",
    "# Load the grayscale image\n",
    "image = cv2.imread('no_yellow_blue_grey_image.png', cv2.IMREAD_GRAYSCALE)\n",
    "\n",
    "# Define a kernel for morphological operations\n",
    "kernel = np.ones((5, 5), np.uint8)\n",
    "\n",
    "# Perform morphological opening (erosion followed by dilation) to remove noise\n",
    "opening = cv2.morphologyEx(image, cv2.MORPH_OPEN, kernel)\n",
    "\n",
    "# Perform morphological closing (dilation followed by erosion) to fill in gaps\n",
    "morph_image = cv2.morphologyEx(opening, cv2.MORPH_CLOSE, kernel)\n"
   ]
  },
  {
   "cell_type": "code",
   "execution_count": 4,
   "metadata": {},
   "outputs": [],
   "source": [
    "x=[]\n",
    "for i in morph_image:\n",
    "    temp=[]\n",
    "    for j in i:\n",
    "        if(250<=j and j>=255):\n",
    "            temp.append(255)\n",
    "            # temp.append(0)\n",
    "        else:\n",
    "            temp.append(0)\n",
    "    x.append(temp)    \n",
    "\n",
    "b_w_image_array = np.array(x)\n",
    "b_w_image = Image.fromarray(b_w_image_array.astype(np.uint8))"
   ]
  },
  {
   "cell_type": "code",
   "execution_count": 5,
   "metadata": {},
   "outputs": [],
   "source": [
    "b_w_image.save('perfect_b_w_image.png')"
   ]
  },
  {
   "cell_type": "markdown",
   "metadata": {},
   "source": [
    "## Get start and end node"
   ]
  },
  {
   "cell_type": "code",
   "execution_count": 6,
   "metadata": {},
   "outputs": [],
   "source": [
    "import cv2\n",
    "import numpy as np\n",
    "\n",
    "\n",
    "# Read the binary image\n",
    "binary_image = cv2.imread('perfect_b_w_image.png', cv2.IMREAD_GRAYSCALE)\n",
    "\n",
    "# Find contours in the binary image\n",
    "contours, _ = cv2.findContours(binary_image, cv2.RETR_EXTERNAL, cv2.CHAIN_APPROX_SIMPLE)\n",
    "\n",
    "# Sort contours by area in descending order\n",
    "contours = sorted(contours, key=cv2.contourArea, reverse=True)\n",
    "\n",
    "# Assume the outermost contour is the maze boundary\n",
    "maze_boundary = contours[0]\n",
    "\n",
    "# Find the bounding rectangle of the maze boundary\n",
    "x, y, w, h = cv2.boundingRect(maze_boundary)\n",
    "\n",
    "# Load the original image\n",
    "original_image = cv2.imread(question)\n",
    "\n",
    "# Define color thresholds for yellow and blue\n",
    "lower_yellow = np.array([20, 100, 100])\n",
    "upper_yellow = np.array([30, 255, 255])\n",
    "lower_blue = np.array([110, 50, 50])\n",
    "upper_blue = np.array([130, 255, 255])\n",
    "\n",
    "# Convert the image to HSV color space\n",
    "hsv_image = cv2.cvtColor(original_image, cv2.COLOR_BGR2HSV)\n",
    "\n",
    "# Mask for yellow and blue regions\n",
    "yellow_mask = cv2.inRange(hsv_image, lower_yellow, upper_yellow)\n",
    "blue_mask = cv2.inRange(hsv_image, lower_blue, upper_blue)\n",
    "\n",
    "# Find contours in the yellow and blue masks\n",
    "yellow_contours, _ = cv2.findContours(yellow_mask, cv2.RETR_EXTERNAL, cv2.CHAIN_APPROX_SIMPLE)\n",
    "blue_contours, _ = cv2.findContours(blue_mask, cv2.RETR_EXTERNAL, cv2.CHAIN_APPROX_SIMPLE)\n",
    "\n",
    "# Find the extreme left point of the yellow region\n",
    "if yellow_contours:\n",
    "    leftmost_yellow = tuple(yellow_contours[0][yellow_contours[0][:, :, 0].argmin()][0])\n",
    "    yellow_start_point = (leftmost_yellow[0], leftmost_yellow[1])\n",
    "else:\n",
    "    yellow_start_point = None\n",
    "\n",
    "# Find the extreme right point of the blue region\n",
    "if blue_contours:\n",
    "    rightmost_blue = tuple(blue_contours[0][blue_contours[0][:, :, 0].argmax()][0])\n",
    "    blue_end_point = (rightmost_blue[0], rightmost_blue[1])\n",
    "else:\n",
    "    blue_end_point = None\n",
    "\n",
    "\n",
    "# Find the extreme top point of the yellow region\n",
    "start_point = tuple(yellow_contours[0][yellow_contours[0][:, :, 1].argmin()][0]) if yellow_contours else None\n",
    "\n",
    "# Find the extreme right point of the blue region\n",
    "end_point = tuple(blue_contours[0][blue_contours[0][:, :, 0].argmax()][0]) if blue_contours else None\n",
    "\n"
   ]
  },
  {
   "cell_type": "markdown",
   "metadata": {},
   "source": [
    "## Add nodes on image"
   ]
  },
  {
   "cell_type": "code",
   "execution_count": 7,
   "metadata": {},
   "outputs": [
    {
     "data": {
      "text/plain": [
       "True"
      ]
     },
     "execution_count": 7,
     "metadata": {},
     "output_type": "execute_result"
    }
   ],
   "source": [
    "import cv2\n",
    "import numpy as np\n",
    "\n",
    "def mark_corners(img, corners):\n",
    "    for x, y in corners:\n",
    "        img[x, y, :] = [0, 0, 255]  # Set the pixel color at the corner location to red\n",
    "        # cv2.circle(img, (y, x), 3, [0, 0, 255], -1)\n",
    "\n",
    "\n",
    "def color_pixels_same_x(img, corner_locations):\n",
    "    unique_x_coordinates = np.unique(corner_locations[:, 1])\n",
    "\n",
    "    for x_coord in unique_x_coordinates:\n",
    "        pixels_with_same_x = corner_locations[corner_locations[:, 1] == x_coord]\n",
    "        for x, y in pixels_with_same_x:\n",
    "            # img[x, y] = [0, 0, 255]  # Set the pixel color to red\n",
    "            img[x, y] = 50  # Set the pixel color to red\n",
    "            \n",
    "\n",
    "\n",
    "def process_image(img):\n",
    "    gray = cv2.cvtColor(img, cv2.COLOR_BGR2GRAY)\n",
    "    sharpening_filter = np.array([[-1, -1, -1], [-1, 9, -1], [-1, -1, -1]])\n",
    "    sharpened_img = cv2.filter2D(gray, -1, sharpening_filter)\n",
    "    corners = cv2.cornerHarris(sharpened_img, blockSize=4, ksize=1, k=0.05)\n",
    "    corner_locations = np.column_stack(np.where(corners > 0.01 * corners.max()))\n",
    "    mark_corners(img, corner_locations)\n",
    "    return corner_locations\n",
    "\n",
    "\n",
    "def print_adjacency_list(corner_locations):\n",
    "    num_corners = len(corner_locations)\n",
    "    adjacency_list = {i: [] for i in range(num_corners)}\n",
    "\n",
    "    for i in range(num_corners):\n",
    "        for j in range(i + 1, num_corners):\n",
    "            distance = np.linalg.norm(np.array(corner_locations[i]) - np.array(corner_locations[j]))\n",
    "            if distance < 20:\n",
    "                adjacency_list[i].append(j)\n",
    "                adjacency_list[j].append(i)\n",
    "\n",
    "    print(\"Adjacency List:\")\n",
    "    for node, neighbors in adjacency_list.items():\n",
    "        print(f\"{node}: {neighbors}\")\n",
    "\n",
    "\n",
    "perfect_b_w_with_nodes_image = cv2.imread(\"perfect_b_w_image.png\")\n",
    "corner_locations = process_image(perfect_b_w_with_nodes_image)\n",
    "color_pixels_same_x(perfect_b_w_with_nodes_image, corner_locations)\n",
    "cv2.imwrite(\"perfect_b_w_with_nodes_image.png\", perfect_b_w_with_nodes_image)\n",
    "\n"
   ]
  },
  {
   "cell_type": "code",
   "execution_count": 8,
   "metadata": {},
   "outputs": [
    {
     "data": {
      "text/plain": [
       "True"
      ]
     },
     "execution_count": 8,
     "metadata": {},
     "output_type": "execute_result"
    }
   ],
   "source": [
    "# Draw the start and end points on the original image\n",
    "perfect_b_w_with_nodes_image = cv2.imread(\"perfect_b_w_with_nodes_image.png\",cv2.IMREAD_GRAYSCALE)\n",
    "if start_point:\n",
    "    # x=start_point[1]\n",
    "    # y=start_point[0]\n",
    "    # box_size = 5\n",
    "    # box_half = box_size // 2\n",
    "\n",
    "    # for i in range(x - box_half, x + box_half + 1):\n",
    "    #     for j in range(y - box_half, y + box_half + 1):\n",
    "    #         if 0 <= i < perfect_b_w_with_nodes_image.shape[0] and 0 <= j < perfect_b_w_with_nodes_image.shape[1]:\n",
    "    #             perfect_b_w_with_nodes_image[i][j] = 50\n",
    "    cv2.circle(perfect_b_w_with_nodes_image, start_point, 4, 50, -1)  # Green for start point\n",
    "if end_point:\n",
    "    perfect_b_w_with_nodes_image[end_point[1], end_point[0]] = 50\n",
    "\n",
    "\n",
    "cv2.imwrite('maze_with_all_nodes.png', perfect_b_w_with_nodes_image)\n",
    "\n"
   ]
  },
  {
   "cell_type": "code",
   "execution_count": 9,
   "metadata": {},
   "outputs": [],
   "source": [
    "final_image=perfect_b_w_with_nodes_image"
   ]
  },
  {
   "cell_type": "markdown",
   "metadata": {},
   "source": [
    "# Create Graph"
   ]
  },
  {
   "cell_type": "code",
   "execution_count": 10,
   "metadata": {},
   "outputs": [],
   "source": [
    "from src.maze import MazeGraph\n",
    "# Create a new graph\n",
    "graph = MazeGraph()"
   ]
  },
  {
   "cell_type": "code",
   "execution_count": 11,
   "metadata": {},
   "outputs": [],
   "source": [
    "def get_length(node_a, node_b):\n",
    "    return np.linalg.norm(np.array(graph.get_nodes(node_a)) - np.array(graph.get_nodes(node_b)))"
   ]
  },
  {
   "cell_type": "markdown",
   "metadata": {},
   "source": [
    "## Go Horizontal\n"
   ]
  },
  {
   "cell_type": "code",
   "execution_count": 12,
   "metadata": {},
   "outputs": [],
   "source": [
    "for y in range(0,final_image.shape[0]):\n",
    "    # node_list\n",
    "    node_list=[]\n",
    "    for x in range(0,final_image.shape[1]):\n",
    "        if(final_image[y][x]==50):\n",
    "            if(len(node_list)==0):\n",
    "                node_list.append(graph.add_node((x,y)))\n",
    "            else:\n",
    "                node_list.append(graph.add_node((x,y)))\n",
    "                graph.add_edge(node_list[0],node_list[1],length=get_length(node_list[0],node_list[1]))\n",
    "                node_list.pop(0)\n",
    "\n",
    "        elif(final_image[y][x]==0):\n",
    "            node_list=[]"
   ]
  },
  {
   "cell_type": "markdown",
   "metadata": {},
   "source": [
    "## Go Vertical"
   ]
  },
  {
   "cell_type": "code",
   "execution_count": 13,
   "metadata": {},
   "outputs": [],
   "source": [
    "for x in range(0,final_image.shape[1]):\n",
    "    # node_list\n",
    "    node_list=[]\n",
    "    for y in range(0,final_image.shape[0]):\n",
    "        if(final_image[y][x]==50):\n",
    "            if(len(node_list)==0):\n",
    "                    node_list.append(graph.get_node_from_coordinates((x,y)))\n",
    "            else:\n",
    "                node_list.append(graph.get_node_from_coordinates((x,y)))\n",
    "                graph.add_edge(node_list[0],node_list[1],length=get_length(node_list[0],node_list[1]))\n",
    "                node_list.pop(0)\n",
    "\n",
    "        elif(final_image[y][x]==0 and final_image[y-1][x]!=255):\n",
    "            node_list=[]"
   ]
  },
  {
   "cell_type": "code",
   "execution_count": 14,
   "metadata": {},
   "outputs": [],
   "source": [
    "graph.set_start_node(graph.get_node_from_coordinates(start_point))\n",
    "graph.set_end_node(graph.get_node_from_coordinates(end_point))\n"
   ]
  },
  {
   "cell_type": "code",
   "execution_count": 15,
   "metadata": {},
   "outputs": [],
   "source": [
    "from src.pathfinder import PathFinder\n",
    "x=PathFinder(maze_graph=graph)\n",
    "solution=x.modified_a_star()"
   ]
  },
  {
   "cell_type": "code",
   "execution_count": 16,
   "metadata": {},
   "outputs": [],
   "source": [
    "answer=cv2.imread(question)\n",
    "for i in solution:\n",
    "    x=graph.get_nodes(i)\n",
    "    answer[x[1],x[0]]=(0,0,255)\n"
   ]
  },
  {
   "cell_type": "code",
   "execution_count": 17,
   "metadata": {},
   "outputs": [],
   "source": [
    "import cv2\n",
    "import math\n",
    "\n",
    "# Function to calculate angle between three points\n",
    "def calculate_angle(pt1, pt2, pt3):\n",
    "    angle_radians = math.atan2(pt3[1] - pt2[1], pt3[0] - pt2[0]) - math.atan2(pt1[1] - pt2[1], pt1[0] - pt2[0])\n",
    "    angle_degrees = math.degrees(angle_radians)\n",
    "    return angle_degrees\n",
    "\n",
    "# Function to get direction from angle\n",
    "def get_direction(angle):\n",
    "    if angle < -75:\n",
    "        return \"Right\"\n",
    "    elif angle > 75:\n",
    "        return \"Left\"\n",
    "    else:\n",
    "        return \"Straight\"\n",
    "\n",
    "# Function to draw lines between nodes\n",
    "def draw_lines(image, nodes):\n",
    "    turns = []\n",
    "    num_turns = 0\n",
    "    prev_direction = None\n",
    "    for i in range(len(nodes) - 2):\n",
    "        node1 = nodes[i]\n",
    "        node2 = nodes[i + 1]\n",
    "        node3 = nodes[i + 2]\n",
    "        cv2.line(image, node1, node2, (0, 0, 0), 3)  # Draw line between the nodes\n",
    "        angle = calculate_angle(node1, node2, node3)\n",
    "        direction = get_direction(angle)\n",
    "        if abs(angle) > 89 and direction != \"Straight\":\n",
    "            if prev_direction != direction:\n",
    "                turns.append((node2, direction))\n",
    "                num_turns += 1\n",
    "            prev_direction = direction\n",
    "    return turns, num_turns\n",
    "\n",
    "# Example solutions list\n",
    "sol = solution  # Assuming you have a list of node numbers\n",
    "\n",
    "# List to store the coordinates of nodes in the solution\n",
    "nodes = []\n",
    "\n",
    "# Retrieve coordinates of nodes in the solution\n",
    "for i in sol:\n",
    "    x, y = graph.get_nodes(i)  # Assuming graph.get_nodes() returns (x, y) coordinates\n",
    "    nodes.append((x, y))  # Append coordinates to the list\n",
    "\n",
    "image = cv2.imread(question) \n",
    "\n",
    "# Draw lines between nodes in the solution on the image and get the turns\n",
    "turns, num_turns = draw_lines(image, nodes)\n",
    "\n",
    "# Show the image with the colored pixel\n",
    "cv2.imshow('Connected Nodes Image', image)\n",
    "cv2.waitKey(0)\n",
    "cv2.destroyAllWindows()\n",
    "\n",
    "# Write turns to a text file\n",
    "with open(\"turns.txt\", \"w\") as file:\n",
    "    file.write(\"Number of turns: \" + str(num_turns) + \"\\n\")\n",
    "    file.write(\"Turns:\\n\")\n",
    "    for turn in turns:\n",
    "        file.write(\"At point \" + str(turn[0]) + \" turn \" + turn[1] + \"\\n\")\n"
   ]
  }
 ],
 "metadata": {
  "kernelspec": {
   "display_name": "base",
   "language": "python",
   "name": "python3"
  },
  "language_info": {
   "codemirror_mode": {
    "name": "ipython",
    "version": 3
   },
   "file_extension": ".py",
   "mimetype": "text/x-python",
   "name": "python",
   "nbconvert_exporter": "python",
   "pygments_lexer": "ipython3",
   "version": "3.11.5"
  }
 },
 "nbformat": 4,
 "nbformat_minor": 2
}
